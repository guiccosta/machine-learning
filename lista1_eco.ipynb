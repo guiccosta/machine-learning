{
  "nbformat": 4,
  "nbformat_minor": 0,
  "metadata": {
    "colab": {
      "name": "lista1_eco.ipynb",
      "provenance": [],
      "collapsed_sections": [],
      "include_colab_link": true
    },
    "kernelspec": {
      "name": "python3",
      "display_name": "Python 3"
    }
  },
  "cells": [
    {
      "cell_type": "markdown",
      "metadata": {
        "id": "view-in-github",
        "colab_type": "text"
      },
      "source": [
        "<a href=\"https://colab.research.google.com/github/guiccosta/machine-learning/blob/master/lista1_eco.ipynb\" target=\"_parent\"><img src=\"https://colab.research.google.com/assets/colab-badge.svg\" alt=\"Open In Colab\"/></a>"
      ]
    },
    {
      "cell_type": "code",
      "metadata": {
        "id": "uZ34He0S4Shc",
        "colab_type": "code",
        "colab": {}
      },
      "source": [
        "import numpy as np"
      ],
      "execution_count": null,
      "outputs": []
    },
    {
      "cell_type": "code",
      "metadata": {
        "id": "GgAKOFHy4xAA",
        "colab_type": "code",
        "colab": {
          "base_uri": "https://localhost:8080/",
          "height": 34
        },
        "outputId": "6e7575fb-435d-4e44-a975-15acf7a4d339"
      },
      "source": [
        "values = np.array(list(range(1,7)))\n",
        "\n",
        "prob_Xx =  1/6\n",
        "\n",
        "def E(values):\n",
        "\n",
        "  \"\"\"\n",
        "  values: array de valores assumidos pela variável\\n\n",
        "  return: média analítica\n",
        "  \"\"\"\n",
        "  \n",
        "  global prob_Xx\n",
        "  return np.sum(values)*prob_Xx\n",
        "\n",
        "def Var(values):\n",
        "  \n",
        "  \"\"\"\n",
        "  values: array de valores assumidos pela variável\\n\n",
        "  return: variância analítica\n",
        "  \"\"\"\n",
        "  \n",
        "  global prob_Xx\n",
        "  inner = np.power(values - E(values),2)\n",
        "  return E(inner)\n",
        "\n",
        "print('A Esperança de X é: {} e a Variância de X é: {}'.format(E(values),Var(values)))"
      ],
      "execution_count": null,
      "outputs": [
        {
          "output_type": "stream",
          "text": [
            "A Esperança de X é: 3.5 e a Variância de X é: 2.9166666666666665\n"
          ],
          "name": "stdout"
        }
      ]
    },
    {
      "cell_type": "code",
      "metadata": {
        "id": "FrKAsPvwaWzx",
        "colab_type": "code",
        "colab": {}
      },
      "source": [
        "def simulation(n):\n",
        "\n",
        "  \"\"\" n: numero de lançamentos de um dado não viciado \\n\n",
        "      return: media amostral e variância amostral \n",
        "  \"\"\"\n",
        "  \n",
        "  s = np.random.choice(list(range(1,7)),size = n)\n",
        "  return (s.mean(),s.var())"
      ],
      "execution_count": null,
      "outputs": []
    },
    {
      "cell_type": "code",
      "metadata": {
        "id": "XaklgUnHbS4i",
        "colab_type": "code",
        "colab": {
          "base_uri": "https://localhost:8080/",
          "height": 68
        },
        "outputId": "eaf20d7d-be6e-453a-b03c-a496d81f362c"
      },
      "source": [
        "print('Para (n = 10): {} \\nPara (n = 100): {}\\nPara (n = 100000): {}'.format(simulation(10), simulation(100), simulation(100000)))"
      ],
      "execution_count": null,
      "outputs": [
        {
          "output_type": "stream",
          "text": [
            "Para (n = 10): (3.3, 2.6100000000000003) \n",
            "Para (n = 100): (3.44, 2.9463999999999997)\n",
            "Para (n = 100000): (3.50178, 2.9157768316000006)\n"
          ],
          "name": "stdout"
        }
      ]
    },
    {
      "cell_type": "markdown",
      "metadata": {
        "id": "07Hz2G_2ca6_",
        "colab_type": "text"
      },
      "source": [
        "\n",
        "# **Respostas**\n",
        "\n",
        "###**Questão 1)**###\n",
        "\n",
        "**a)** A média analítica e a variância analítica de um dado de 6 faces não viciado é, respecitivamente, 3.5 e 2.9167, aproximadamente.\n",
        "\n",
        "**b)** Para n = 10, a média e variância amostrais são, respectivamente, 3.3 e 2.6100000000000003, aproximadamente. Como podemos ver, tanto a média, quanto a variância amostral, diferem dos valores encontrados no item a.\n",
        "\n",
        "**c)** Para n = 100, a média e variância amostrais são, respectivamente, 3.44 e 2.9463999999999997, aproximadamente. Já, para n = 100000, a média e variância amostrais são, respectivamente, 3.50178 e 2.9157768316000006, aproximadamente. Podemos ver que, à medida que n cresce, os valores da média amostral e da variância amostral convergem para os valores analíticos. Isso se dá devido a \"*Lei dos Grandes Números*\", que garante que quanto mais repetições de uma variável aleatória tivermos, mais a média amostral se aproxima do valor real da média analítica. "
      ]
    },
    {
      "cell_type": "markdown",
      "metadata": {
        "id": "P1I4FkgeqAVr",
        "colab_type": "text"
      },
      "source": [
        "\n",
        "\n",
        "---\n",
        "\n",
        "\n",
        "\n",
        "---\n",
        "\n"
      ]
    },
    {
      "cell_type": "code",
      "metadata": {
        "id": "ORW0LKUYbuSd",
        "colab_type": "code",
        "colab": {}
      },
      "source": [
        "import scipy.integrate as integrate"
      ],
      "execution_count": null,
      "outputs": []
    },
    {
      "cell_type": "code",
      "metadata": {
        "id": "GLi-tL9ZghQ5",
        "colab_type": "code",
        "colab": {}
      },
      "source": [
        "def N(x,mu = 0,sigma2 = 1):\n",
        "  \"\"\"\n",
        "  x: array de valores reais \\n\n",
        "  mu: média \\n\n",
        "  sigma2: desvio padrão \\n\\n\n",
        "\n",
        "  Calcula o valor da função densidade no ponto x\n",
        "  \"\"\"\n",
        "  exp = np.exp(-0.5 * np.power(x - mu,2)/sigma2)\n",
        "  return 1/(np.sqrt(2*np.pi))*exp"
      ],
      "execution_count": null,
      "outputs": []
    },
    {
      "cell_type": "code",
      "metadata": {
        "id": "LyJY1Vdqg49V",
        "colab_type": "code",
        "colab": {
          "base_uri": "https://localhost:8080/",
          "height": 34
        },
        "outputId": "393286f3-12d3-48d7-c8ec-7f9543234aa9"
      },
      "source": [
        "print('A probabilidade que a variável aleatória X esteja entre -1.96 e 1.96 é {}'.format(integrate.quad(N, a = -1.96, b = 1.96)[0]))"
      ],
      "execution_count": null,
      "outputs": [
        {
          "output_type": "stream",
          "text": [
            "A probabilidade que a variável aleatória X esteja entre -1.96 e 1.96 é 0.9500042097035591\n"
          ],
          "name": "stdout"
        }
      ]
    },
    {
      "cell_type": "code",
      "metadata": {
        "id": "Ay-haZqig6Ee",
        "colab_type": "code",
        "colab": {
          "base_uri": "https://localhost:8080/",
          "height": 34
        },
        "outputId": "e5b4c585-012a-4ca9-f575-28d2486c63e5"
      },
      "source": [
        "\n",
        "print('A probabilidade que a variável aleatória X seja menor que -1.96 e maior que 1.96 é aproximadamente {}'.format(integrate.quad(N, a = -np.inf, b = -1.96)[0] + integrate.quad(N, a = 1.96, b = np.inf)[0]))"
      ],
      "execution_count": null,
      "outputs": [
        {
          "output_type": "stream",
          "text": [
            "A probabilidade que a variável aleatória X seja menor que -1.96 e maior que 1.96 é aproximadamente 0.049995790296433154\n"
          ],
          "name": "stdout"
        }
      ]
    },
    {
      "cell_type": "code",
      "metadata": {
        "id": "r1hxL45dinPz",
        "colab_type": "code",
        "colab": {}
      },
      "source": [
        "def N1(x,mu = 0,sigma2 = 1):\n",
        "  \"\"\"\n",
        "  x: array de valores reais \\n\n",
        "  mu: média \\n\n",
        "  sigma2: desvio padrão \\n\n",
        "\n",
        "  Função para auxiliar no cálculo da esperança de uma variável aleatória com distribuição normal.\\n\n",
        "  Retorna o valor da função densidade aplicada em x, tudo isso vezes x\n",
        "  \"\"\"\n",
        "  return N(x)*x"
      ],
      "execution_count": null,
      "outputs": []
    },
    {
      "cell_type": "code",
      "metadata": {
        "id": "bEAWWM0si8Qy",
        "colab_type": "code",
        "colab": {
          "base_uri": "https://localhost:8080/",
          "height": 34
        },
        "outputId": "e71da992-d3c7-4d43-c2d8-3fc8e6b3dbc0"
      },
      "source": [
        "esperanca = integrate.quad(N1, a = -np.inf, b = np.inf)[0]\n",
        "\n",
        "esperanca"
      ],
      "execution_count": null,
      "outputs": [
        {
          "output_type": "execute_result",
          "data": {
            "text/plain": [
              "0.0"
            ]
          },
          "metadata": {
            "tags": []
          },
          "execution_count": 93
        }
      ]
    },
    {
      "cell_type": "code",
      "metadata": {
        "id": "_7Hvh6dWjCm9",
        "colab_type": "code",
        "colab": {}
      },
      "source": [
        "def N2(x,mu = 0,sigma2 = 1):\n",
        "  \"\"\"\n",
        "  x: array de valores reais \\n\n",
        "  mu: média \\n\n",
        "  sigma2: desvio padrão \\n\\n\n",
        "\n",
        "  Função para auxiliar no cálculo da variancia de uma variável aleatória com distribuição normal.\\n\n",
        "  Retorna o valor da função densidade aplicada em x, tudo isso vezes x ao quadrado.\n",
        "  \"\"\"\n",
        "\n",
        "  exp = np.exp(-0.5 * np.power(x - mu,2)/sigma2)\n",
        "  return 1/(np.sqrt(2*np.pi))*exp*np.power(x,2)"
      ],
      "execution_count": null,
      "outputs": []
    },
    {
      "cell_type": "code",
      "metadata": {
        "id": "Hbs6YukSj3qT",
        "colab_type": "code",
        "colab": {
          "base_uri": "https://localhost:8080/",
          "height": 34
        },
        "outputId": "57d41ecb-3218-4f24-f024-7adfd5940049"
      },
      "source": [
        "variancia = integrate.quad(N2, a = -np.inf, b = np.inf)[0] + np.power(esperanca,2)\n",
        "\n",
        "variancia"
      ],
      "execution_count": null,
      "outputs": [
        {
          "output_type": "execute_result",
          "data": {
            "text/plain": [
              "1.000000000000001"
            ]
          },
          "metadata": {
            "tags": []
          },
          "execution_count": 92
        }
      ]
    },
    {
      "cell_type": "code",
      "metadata": {
        "id": "qQ76zclGpYTd",
        "colab_type": "code",
        "colab": {
          "base_uri": "https://localhost:8080/",
          "height": 34
        },
        "outputId": "5e757e5f-b160-4916-89aa-fe011b84c061"
      },
      "source": [
        "print('A esperança e variância de X é, respectivamente, {} e {}, aproximadamente'.format(esperanca, variancia))"
      ],
      "execution_count": null,
      "outputs": [
        {
          "output_type": "stream",
          "text": [
            "A esperança e variância de X é, respectivamente, 0.0 e 1.000000000000001, aproximadamente\n"
          ],
          "name": "stdout"
        }
      ]
    },
    {
      "cell_type": "markdown",
      "metadata": {
        "id": "0HNl9wY0t5LN",
        "colab_type": "text"
      },
      "source": [
        "# **Respostas**\n",
        "\n",
        "### **Questão 2**\n",
        "\n",
        "**a)** A probabilidade que a variável aleatória X esteja entre -1.96 e 1.96 é 0.9500042097035591.\n",
        "\n",
        "**b)** A probabilidade que a variável aleatória X seja menor que -1.96 e maior que 1.96 é aproximadamente 0.049995790296433154\n",
        "\n",
        "**c)** *Vide o código*"
      ]
    }
  ]
}